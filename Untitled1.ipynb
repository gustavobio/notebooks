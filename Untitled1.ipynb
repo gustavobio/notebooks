{
 "cells": [
  {
   "cell_type": "code",
   "execution_count": 1,
   "metadata": {},
   "outputs": [],
   "source": [
    "import pandas as pd\n",
    "import numpy as np\n",
    "import geopandas \n",
    "import re\n",
    "import matplotlib.pyplot as plt"
   ]
  },
  {
   "cell_type": "code",
   "execution_count": 2,
   "metadata": {},
   "outputs": [
    {
     "name": "stderr",
     "output_type": "stream",
     "text": [
      "/home/gustavo/anaconda3/lib/python3.7/site-packages/IPython/core/interactiveshell.py:3049: DtypeWarning: Columns (0,1,2,3,6,7,9,10,11,12,14,15,16,18,19,20,21,22,25,26,28,29,30,32,33,34,35,36,37,39,40,41,43,44,45,46,47,48,49,50) have mixed types. Specify dtype option on import or set low_memory=False.\n",
      "  interactivity=interactivity, compiler=compiler, result=result)\n"
     ]
    }
   ],
   "source": [
    "spp = pd.read_csv(\"/home/gustavo/data/all.csv\")"
   ]
  },
  {
   "cell_type": "code",
   "execution_count": 3,
   "metadata": {},
   "outputs": [],
   "source": [
    "spp = spp[~((spp.specificepithet.isnull()) & (spp.species.isnull()))]"
   ]
  },
  {
   "cell_type": "code",
   "execution_count": 4,
   "metadata": {},
   "outputs": [],
   "source": [
    "flower_regex = \"(\\\\b[Ii]n|\\\\b)[Ff]lor(?!esta|[íi]stica|amento|a\\s|a\\\\.|a\\\\,|a\\\\;|ae)(ets|es|ais|al|a[cç][aã]o)?(c[eê]ncias?)?|[Ff]lower(?!ed)|[Aa]ntese|[Cc]orola|[Cc]orolla|[Ff]l\\\\.(?!\\s[Bb]ra[sz]|[Nn]eo|[Tt]rop|[Ee]sta)|[Pp][eé]talas?|[Bb]r[aá]cteas?|[Ee]st[íi]gmas?|[Aa]nteras?|[Cc][aá]lice\""
   ]
  },
  {
   "cell_type": "code",
   "execution_count": 5,
   "metadata": {},
   "outputs": [
    {
     "name": "stderr",
     "output_type": "stream",
     "text": [
      "/home/gustavo/anaconda3/lib/python3.7/site-packages/ipykernel_launcher.py:1: UserWarning: This pattern has match groups. To actually get the groups, use str.extract.\n",
      "  \"\"\"Entry point for launching an IPython kernel.\n"
     ]
    }
   ],
   "source": [
    "has_flowers = spp['notes'].str.contains(flower_regex, na = False) | spp['occurrenceremarks'].str.contains(flower_regex, na = False)"
   ]
  },
  {
   "cell_type": "code",
   "execution_count": 9,
   "metadata": {},
   "outputs": [],
   "source": [
    "spp = spp[has_flowers]"
   ]
  },
  {
   "cell_type": "code",
   "execution_count": 7,
   "metadata": {},
   "outputs": [
    {
     "data": {
      "text/plain": [
       "Index(['associatedmedia', 'barcode', 'basisofrecord', 'catalognumber',\n",
       "       'collectioncode', 'collector', 'collectornumber', 'coordinateprecision',\n",
       "       'country', 'countrycode', 'county', 'dateidentified', 'daycollected',\n",
       "       'dayidentified', 'eventdate', 'family', 'fieldnumber', 'genus', 'id',\n",
       "       'identificationqualifier', 'identifiedby', 'individualcount',\n",
       "       'infraspecificepithet', 'institutioncode', 'julianday', 'latitude',\n",
       "       'latitude_mun', 'locality', 'longitude', 'longitude_mun',\n",
       "       'monthcollected', 'monthidentified', 'municipality', 'notes',\n",
       "       'occurrenceid', 'occurrenceremarks', 'othercatalognumbers',\n",
       "       'recordnumber', 'rightsholder', 'scientificname',\n",
       "       'scientificnameauthor', 'species', 'specificepithet', 'stateprovince',\n",
       "       'subspecies', 'taxonrank', 'type', 'typestatus', 'verbatimlatitude',\n",
       "       'verbatimlongitude', 'yearcollected', 'yearidentified'],\n",
       "      dtype='object')"
      ]
     },
     "execution_count": 7,
     "metadata": {},
     "output_type": "execute_result"
    }
   ],
   "source": [
    "spp.columns"
   ]
  },
  {
   "cell_type": "code",
   "execution_count": 6,
   "metadata": {},
   "outputs": [],
   "source": [
    "spp.drop(['basisofrecord', 'eventdate', 'family', 'identificationqualifier', 'othercatalognumbers', 'scientificnameauthor', 'taxonrank', 'type', 'verbatimlatitude', 'verbatimlongitude'], axis = 1, inplace = True)"
   ]
  },
  {
   "cell_type": "code",
   "execution_count": 10,
   "metadata": {},
   "outputs": [],
   "source": [
    "spp = spp[~spp.scientificname.isnull()]"
   ]
  },
  {
   "cell_type": "code",
   "execution_count": 11,
   "metadata": {},
   "outputs": [],
   "source": [
    "spp = spp[(~(spp['yearcollected'].isnull() & spp['monthcollected'].isnull() & spp['daycollected'].isnull()))]"
   ]
  },
  {
   "cell_type": "code",
   "execution_count": 13,
   "metadata": {},
   "outputs": [
    {
     "data": {
      "text/plain": [
       "RB                   203215\n",
       "UEC                   91697\n",
       "ALCB                  71267\n",
       "HUFU                  69040\n",
       "UB                    63199\n",
       "MBM                   41522\n",
       "EAC                   39880\n",
       "PACA-AGP              38309\n",
       "UPCB                  36076\n",
       "IPA                   31409\n",
       "ASE                   30951\n",
       "BHCB                  30780\n",
       "SPF                   28853\n",
       "MAC                   27352\n",
       "FUEL                  23796\n",
       "CEN                   23261\n",
       "MBML-HERBARIO         21539\n",
       "CESJ                  21025\n",
       "UFP                   17137\n",
       "HVASF                 16342\n",
       "IAN                   15844\n",
       "HCF                   15591\n",
       "HEPH                  15519\n",
       "JPB                   15517\n",
       "VIC                   14734\n",
       "HST                   14634\n",
       "PEUFR                 13007\n",
       "UFRN                  12070\n",
       "SP                    11410\n",
       "HRCB                  11389\n",
       "                      ...  \n",
       "MACK                     38\n",
       "MFS-FLORES               36\n",
       "HBG                      31\n",
       "HURB                     31\n",
       "SP-FUNGI                 30\n",
       "SPFW                     30\n",
       "BHCB-SL                  26\n",
       "RFA                      25\n",
       "BLA                      25\n",
       "CPMA                     12\n",
       "FPS                      12\n",
       "SJRP-PTERIDOPHYTA        10\n",
       "B                        10\n",
       "MCCA                     10\n",
       "JOI                       8\n",
       "FVD                       8\n",
       "MFS-PLANTULAS             7\n",
       "SJRP-ALGAE                7\n",
       "HUNEB                     6\n",
       "MCMG                      6\n",
       "EVB                       6\n",
       "W                         5\n",
       "E                         3\n",
       "OBIS_BR                   2\n",
       "MO                        2\n",
       "NX-CRIPTOGAMOS            2\n",
       "MFS-FRUTOS                2\n",
       "SPSC                      1\n",
       "HTSA-CARPOTECA            1\n",
       "CGMS                      1\n",
       "Name: collectioncode, Length: 159, dtype: int64"
      ]
     },
     "execution_count": 13,
     "metadata": {},
     "output_type": "execute_result"
    }
   ],
   "source": [
    "spp.collectioncode.value_counts()"
   ]
  },
  {
   "cell_type": "code",
   "execution_count": null,
   "metadata": {},
   "outputs": [],
   "source": []
  }
 ],
 "metadata": {
  "kernelspec": {
   "display_name": "Python 3",
   "language": "python",
   "name": "python3"
  },
  "language_info": {
   "codemirror_mode": {
    "name": "ipython",
    "version": 3
   },
   "file_extension": ".py",
   "mimetype": "text/x-python",
   "name": "python",
   "nbconvert_exporter": "python",
   "pygments_lexer": "ipython3",
   "version": "3.7.3"
  }
 },
 "nbformat": 4,
 "nbformat_minor": 2
}
