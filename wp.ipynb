{
 "cells": [
  {
   "cell_type": "code",
   "execution_count": 45,
   "metadata": {},
   "outputs": [
    {
     "name": "stdout",
     "output_type": "stream",
     "text": [
      "33\n"
     ]
    }
   ],
   "source": []
  },
  {
   "cell_type": "code",
   "execution_count": 7,
   "metadata": {},
   "outputs": [],
   "source": [
    "import codecs\n",
    "import operator\n",
    "import sys\n",
    "import json\n",
    "import csv\n",
    "import argparse\n",
    "import os \n",
    "import datelib"
   ]
  },
  {
   "cell_type": "code",
   "execution_count": 8,
   "metadata": {},
   "outputs": [],
   "source": [
    "path = '/home/gustavo/Downloads/_chat.txt'\n",
    "arq = codecs.open(path, \"r\", \"utf-8-sig\")\n",
    "content = arq.read()\n",
    "arq.close()\n",
    "messages = []\n",
    "lines = content.split(\"\\n\")\n",
    "lines = [l for l in lines if len(l) != 1]\n",
    "for l in lines:\n",
    "    messages.append(l)"
   ]
  },
  {
   "cell_type": "code",
   "execution_count": null,
   "metadata": {},
   "outputs": [],
   "source": []
  },
  {
   "cell_type": "code",
   "execution_count": 9,
   "metadata": {},
   "outputs": [],
   "source": [
    "def parse(messages):\n",
    "        list_of_messages = []\n",
    "        set_of_senders = set()\n",
    "        for l in messages:\n",
    "            msg_date, sep, msg = l.partition(\": \")\n",
    "            raw_date, sep, time = msg_date.partition(\" \")\n",
    "            sender, sep, content = msg.partition(\": \")\n",
    "            raw_date = raw_date.replace(\",\", \"\")\n",
    "            year = raw_date.split(\" \")[0].split(\"/\")[-1]\n",
    "            # The following lines treats:\n",
    "            # 3/24/14 1:59:59 PM\n",
    "            # 24/3/14 13:59:59 PM\n",
    "            # Couldn't we use msg_date instead of chatTimeString here?\n",
    "\n",
    "            # colonIndex = [x.start() for x in re.finditer(':', l)]\n",
    "            # print l, colonIndex\n",
    "            # chatTimeString = l[0:colonIndex[2]]\n",
    "            # This ignores a minority of bad formatted lines using try/except block. \n",
    "            # an execption is raised when the datetime_obj is not created due to date parsing error\n",
    "            try:\n",
    "                if \"AM\" in msg_date or \"PM\" in msg_date:\n",
    "                    datetime_obj = datetime.strptime(\n",
    "                        msg_date, \"%m/%d/%y, %I:%M:%S %p\")\n",
    "                else:\n",
    "                    if len(year) == 2:\n",
    "                        datetime_obj = datetime.strptime(msg_date, \"%m/%d/%y %H:%M:%S\")\n",
    "                    else:\n",
    "                        datetime_obj = datetime.strptime(msg_date, \"%m/%d/%Y %H:%M:%S\")\n",
    "            except ValueError: \n",
    "                continue\n",
    "                \n",
    "            set_of_senders.add(sender)\n",
    "            list_of_messages.append(message.Message(sender, content, raw_date, time, datetime_obj))\n",
    "\n",
    "        return list(set_of_senders), list_of_messages"
   ]
  },
  {
   "cell_type": "code",
   "execution_count": 10,
   "metadata": {},
   "outputs": [
    {
     "ename": "AttributeError",
     "evalue": "module 'datetime' has no attribute 'strptime'",
     "output_type": "error",
     "traceback": [
      "\u001b[0;31m---------------------------------------------------------------------------\u001b[0m",
      "\u001b[0;31mAttributeError\u001b[0m                            Traceback (most recent call last)",
      "\u001b[0;32m<ipython-input-10-ae4cc2690f83>\u001b[0m in \u001b[0;36m<module>\u001b[0;34m\u001b[0m\n\u001b[0;32m----> 1\u001b[0;31m \u001b[0mparse\u001b[0m\u001b[0;34m(\u001b[0m\u001b[0mmessages\u001b[0m\u001b[0;34m)\u001b[0m\u001b[0;34m\u001b[0m\u001b[0;34m\u001b[0m\u001b[0m\n\u001b[0m",
      "\u001b[0;32m<ipython-input-9-41e47ab39a25>\u001b[0m in \u001b[0;36mparse\u001b[0;34m(messages)\u001b[0m\n\u001b[1;32m     24\u001b[0m                 \u001b[0;32melse\u001b[0m\u001b[0;34m:\u001b[0m\u001b[0;34m\u001b[0m\u001b[0;34m\u001b[0m\u001b[0m\n\u001b[1;32m     25\u001b[0m                     \u001b[0;32mif\u001b[0m \u001b[0mlen\u001b[0m\u001b[0;34m(\u001b[0m\u001b[0myear\u001b[0m\u001b[0;34m)\u001b[0m \u001b[0;34m==\u001b[0m \u001b[0;36m2\u001b[0m\u001b[0;34m:\u001b[0m\u001b[0;34m\u001b[0m\u001b[0;34m\u001b[0m\u001b[0m\n\u001b[0;32m---> 26\u001b[0;31m                         \u001b[0mdatetime_obj\u001b[0m \u001b[0;34m=\u001b[0m \u001b[0mdatetime\u001b[0m\u001b[0;34m.\u001b[0m\u001b[0mstrptime\u001b[0m\u001b[0;34m(\u001b[0m\u001b[0mmsg_date\u001b[0m\u001b[0;34m,\u001b[0m \u001b[0;34m\"%m/%d/%y %H:%M:%S\"\u001b[0m\u001b[0;34m)\u001b[0m\u001b[0;34m\u001b[0m\u001b[0;34m\u001b[0m\u001b[0m\n\u001b[0m\u001b[1;32m     27\u001b[0m                     \u001b[0;32melse\u001b[0m\u001b[0;34m:\u001b[0m\u001b[0;34m\u001b[0m\u001b[0;34m\u001b[0m\u001b[0m\n\u001b[1;32m     28\u001b[0m                         \u001b[0mdatetime_obj\u001b[0m \u001b[0;34m=\u001b[0m \u001b[0mdatetime\u001b[0m\u001b[0;34m.\u001b[0m\u001b[0mstrptime\u001b[0m\u001b[0;34m(\u001b[0m\u001b[0mmsg_date\u001b[0m\u001b[0;34m,\u001b[0m \u001b[0;34m\"%m/%d/%Y %H:%M:%S\"\u001b[0m\u001b[0;34m)\u001b[0m\u001b[0;34m\u001b[0m\u001b[0;34m\u001b[0m\u001b[0m\n",
      "\u001b[0;31mAttributeError\u001b[0m: module 'datetime' has no attribute 'strptime'"
     ]
    }
   ],
   "source": [
    "parse(messages)"
   ]
  },
  {
   "cell_type": "code",
   "execution_count": 24,
   "metadata": {},
   "outputs": [
    {
     "data": {
      "text/plain": [
       "bytes"
      ]
     },
     "execution_count": 24,
     "metadata": {},
     "output_type": "execute_result"
    }
   ],
   "source": [
    "messages[0].__class__"
   ]
  },
  {
   "cell_type": "code",
   "execution_count": null,
   "metadata": {},
   "outputs": [],
   "source": []
  }
 ],
 "metadata": {
  "kernelspec": {
   "display_name": "Python 3",
   "language": "python",
   "name": "python3"
  },
  "language_info": {
   "codemirror_mode": {
    "name": "ipython",
    "version": 3
   },
   "file_extension": ".py",
   "mimetype": "text/x-python",
   "name": "python",
   "nbconvert_exporter": "python",
   "pygments_lexer": "ipython3",
   "version": "3.7.3"
  }
 },
 "nbformat": 4,
 "nbformat_minor": 2
}
