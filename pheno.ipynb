{
 "cells": [
  {
   "cell_type": "code",
   "execution_count": 2,
   "metadata": {},
   "outputs": [],
   "source": [
    "import pandas as pd"
   ]
  },
  {
   "cell_type": "code",
   "execution_count": 3,
   "metadata": {},
   "outputs": [
    {
     "name": "stderr",
     "output_type": "stream",
     "text": [
      "/home/gustavo/.local/lib/python3.7/site-packages/IPython/core/interactiveshell.py:3049: DtypeWarning: Columns (3,5,7,8,9,10,13,14,15,16,19,20,21,24,25,27,28,33,34,36,37,38,39,40,41,42,43,44,45,46,47,48,49,50) have mixed types. Specify dtype option on import or set low_memory=False.\n",
      "  interactivity=interactivity, compiler=compiler, result=result)\n"
     ]
    }
   ],
   "source": [
    "spp = pd.read_csv(\"/home/gustavo/Downloads/speciesLink_all_52440_20190502173944.txt\", sep = \"\\t\", quotechar = \"\\\"\", names = list(range(0,51)), skipinitialspace = True, skiprows = 1)"
   ]
  },
  {
   "cell_type": "code",
   "execution_count": 4,
   "metadata": {},
   "outputs": [
    {
     "data": {
      "text/plain": [
       "6199354"
      ]
     },
     "execution_count": 4,
     "metadata": {},
     "output_type": "execute_result"
    }
   ],
   "source": [
    "len(spp)"
   ]
  },
  {
   "cell_type": "code",
   "execution_count": 5,
   "metadata": {},
   "outputs": [],
   "source": [
    "spp_header = pd.read_csv(\"/home/gustavo/Downloads/speciesLink_all_52440_20190502173944.txt\", nrows = 1, sep = \"\\t\", header = None)"
   ]
  },
  {
   "cell_type": "code",
   "execution_count": 6,
   "metadata": {},
   "outputs": [],
   "source": [
    "spp.columns = spp_header.loc[0]"
   ]
  },
  {
   "cell_type": "code",
   "execution_count": 7,
   "metadata": {},
   "outputs": [
    {
     "data": {
      "text/plain": [
       "Index(['datelastmodified', 'institutioncode', 'collectioncode',\n",
       "       'catalognumber', 'scientificname', 'basisofrecord', 'kingdom', 'phylum',\n",
       "       'class', 'ordem', 'family', 'genus', 'species', 'subspecies',\n",
       "       'scientificnameauthor', 'identifiedby', 'yearidentified',\n",
       "       'monthidentified', 'dayidentified', 'typestatus', 'collectornumber',\n",
       "       'fieldnumber', 'collector', 'yearcollected', 'monthcollected',\n",
       "       'daycollected', 'julianday', 'timeofday', 'continentocean', 'country',\n",
       "       'stateprovince', 'county', 'locality', 'longitude', 'latitude',\n",
       "       'longitude_mun', 'latitude_mun', 'coordinateprecision', 'boundingbox',\n",
       "       'minimumelevation', 'maximumelevation', 'minimumdepth', 'maximumdepth',\n",
       "       'sex', 'preparationtype', 'individualcount', 'previouscatalognumber',\n",
       "       'relationshiptype', 'relatedcatalogitem', 'notes', 'barcode'],\n",
       "      dtype='object', name=0)"
      ]
     },
     "execution_count": 7,
     "metadata": {},
     "output_type": "execute_result"
    }
   ],
   "source": [
    "spp.columns"
   ]
  },
  {
   "cell_type": "code",
   "execution_count": 8,
   "metadata": {},
   "outputs": [
    {
     "data": {
      "text/plain": [
       "Brasil                    4684154\n",
       "Brazil                    1009316\n",
       "BRAZIL                      97091\n",
       "BRASIL                      70897\n",
       "Argentina                   32551\n",
       "?                           21412\n",
       "USA                         13907\n",
       "Venezuela                   13270\n",
       "Estados Unidos              13261\n",
       "Mexico                      10685\n",
       "Peru                         9711\n",
       "Bolivia                      7901\n",
       "Antarctica                   6744\n",
       "Colombia                     6645\n",
       "França                       4959\n",
       "Paraguai                     4858\n",
       "Alemanha                     4643\n",
       "Bolívia                      4600\n",
       "Guyana                       4102\n",
       "Colômbia                     4015\n",
       "Paraguay                     3615\n",
       "Ecuador                      3471\n",
       "Uruguai                      3279\n",
       "Austria                      2767\n",
       "Uruguay                      2755\n",
       "Chile                        2667\n",
       "Spain                        2621\n",
       "México                       2572\n",
       "French Guiana                2536\n",
       "Austrália                    2527\n",
       "                           ...   \n",
       "British C                       1\n",
       "Sernin                          1\n",
       "Malásia Oriental                1\n",
       "Est                             1\n",
       "US                              1\n",
       "Brasil-Colombia                 1\n",
       "Felipinas                       1\n",
       "Lichtenstein                    1\n",
       "Luxemburgo                      1\n",
       "invasora                        1\n",
       "conferir                        1\n",
       "Cochabamba                      1\n",
       "norte                           1\n",
       "austria/alemanha/sarea          1\n",
       "Guiné Bissau                    1\n",
       "Bailiwick of Guernsey           1\n",
       "Baetica                         1\n",
       "Argentina Missiones             1\n",
       "Niger                           1\n",
       "Sarawak                         1\n",
       "france                          1\n",
       "Indiana                         1\n",
       "Africa Do Sul                   1\n",
       "Westindien                      1\n",
       "Bra                             1\n",
       "Quirguistão                     1\n",
       "República de Singapura          1\n",
       "Argetina                        1\n",
       "British Borneo                  1\n",
       "United Kingdn                   1\n",
       "Name: country, Length: 952, dtype: int64"
      ]
     },
     "execution_count": 8,
     "metadata": {},
     "output_type": "execute_result"
    }
   ],
   "source": [
    "spp.country.value_counts()"
   ]
  },
  {
   "cell_type": "code",
   "execution_count": 9,
   "metadata": {},
   "outputs": [],
   "source": [
    "spp = spp[spp.country.isin(['BRASIL', 'BRAZIL', 'Brasil', 'Brazil'])]"
   ]
  },
  {
   "cell_type": "code",
   "execution_count": 10,
   "metadata": {},
   "outputs": [
    {
     "data": {
      "text/html": [
       "<div>\n",
       "<style scoped>\n",
       "    .dataframe tbody tr th:only-of-type {\n",
       "        vertical-align: middle;\n",
       "    }\n",
       "\n",
       "    .dataframe tbody tr th {\n",
       "        vertical-align: top;\n",
       "    }\n",
       "\n",
       "    .dataframe thead th {\n",
       "        text-align: right;\n",
       "    }\n",
       "</style>\n",
       "<table border=\"1\" class=\"dataframe\">\n",
       "  <thead>\n",
       "    <tr style=\"text-align: right;\">\n",
       "      <th></th>\n",
       "      <th>datelastmodified</th>\n",
       "      <th>institutioncode</th>\n",
       "      <th>collectioncode</th>\n",
       "      <th>catalognumber</th>\n",
       "      <th>scientificname</th>\n",
       "      <th>basisofrecord</th>\n",
       "      <th>kingdom</th>\n",
       "      <th>phylum</th>\n",
       "      <th>class</th>\n",
       "      <th>ordem</th>\n",
       "      <th>...</th>\n",
       "      <th>minimumdepth</th>\n",
       "      <th>maximumdepth</th>\n",
       "      <th>sex</th>\n",
       "      <th>preparationtype</th>\n",
       "      <th>individualcount</th>\n",
       "      <th>previouscatalognumber</th>\n",
       "      <th>relationshiptype</th>\n",
       "      <th>relatedcatalogitem</th>\n",
       "      <th>notes</th>\n",
       "      <th>barcode</th>\n",
       "    </tr>\n",
       "  </thead>\n",
       "  <tbody>\n",
       "    <tr>\n",
       "      <th>4</th>\n",
       "      <td>2006-01-12 00:00:00-02</td>\n",
       "      <td>Fundación Puerto Rastrojo - Colômbia</td>\n",
       "      <td>FPR-COLOMBIA</td>\n",
       "      <td>65263</td>\n",
       "      <td>Pourouma acuminata</td>\n",
       "      <td>O</td>\n",
       "      <td>Plantae</td>\n",
       "      <td>NaN</td>\n",
       "      <td>Angiospermas</td>\n",
       "      <td>Urticales</td>\n",
       "      <td>...</td>\n",
       "      <td>NaN</td>\n",
       "      <td>NaN</td>\n",
       "      <td>NaN</td>\n",
       "      <td>NaN</td>\n",
       "      <td>1</td>\n",
       "      <td>NaN</td>\n",
       "      <td>NaN</td>\n",
       "      <td>NaN</td>\n",
       "      <td>Cecropiaceae : Coussapoa and Pourouma, with an...</td>\n",
       "      <td>NaN</td>\n",
       "    </tr>\n",
       "    <tr>\n",
       "      <th>5</th>\n",
       "      <td>2006-01-12 00:00:00-02</td>\n",
       "      <td>Fundación Puerto Rastrojo - Colômbia</td>\n",
       "      <td>FPR-COLOMBIA</td>\n",
       "      <td>65271</td>\n",
       "      <td>Pourouma acuminata</td>\n",
       "      <td>O</td>\n",
       "      <td>Plantae</td>\n",
       "      <td>NaN</td>\n",
       "      <td>Angiospermas</td>\n",
       "      <td>Urticales</td>\n",
       "      <td>...</td>\n",
       "      <td>NaN</td>\n",
       "      <td>NaN</td>\n",
       "      <td>NaN</td>\n",
       "      <td>NaN</td>\n",
       "      <td>1</td>\n",
       "      <td>NaN</td>\n",
       "      <td>NaN</td>\n",
       "      <td>NaN</td>\n",
       "      <td>Cecropiaceae : Coussapoa and Pourouma, with an...</td>\n",
       "      <td>NaN</td>\n",
       "    </tr>\n",
       "    <tr>\n",
       "      <th>6</th>\n",
       "      <td>2006-01-12 00:00:00-02</td>\n",
       "      <td>Fundación Puerto Rastrojo - Colômbia</td>\n",
       "      <td>FPR-COLOMBIA</td>\n",
       "      <td>65269</td>\n",
       "      <td>Pourouma acuminata</td>\n",
       "      <td>O</td>\n",
       "      <td>Plantae</td>\n",
       "      <td>NaN</td>\n",
       "      <td>Angiospermas</td>\n",
       "      <td>Urticales</td>\n",
       "      <td>...</td>\n",
       "      <td>NaN</td>\n",
       "      <td>NaN</td>\n",
       "      <td>NaN</td>\n",
       "      <td>NaN</td>\n",
       "      <td>1</td>\n",
       "      <td>NaN</td>\n",
       "      <td>NaN</td>\n",
       "      <td>NaN</td>\n",
       "      <td>Cecropiaceae : Coussapoa and Pourouma, with an...</td>\n",
       "      <td>NaN</td>\n",
       "    </tr>\n",
       "    <tr>\n",
       "      <th>7</th>\n",
       "      <td>2006-01-12 00:00:00-02</td>\n",
       "      <td>Fundación Puerto Rastrojo - Colômbia</td>\n",
       "      <td>FPR-COLOMBIA</td>\n",
       "      <td>65272</td>\n",
       "      <td>Pourouma acuminata</td>\n",
       "      <td>O</td>\n",
       "      <td>Plantae</td>\n",
       "      <td>NaN</td>\n",
       "      <td>Angiospermas</td>\n",
       "      <td>Urticales</td>\n",
       "      <td>...</td>\n",
       "      <td>NaN</td>\n",
       "      <td>NaN</td>\n",
       "      <td>NaN</td>\n",
       "      <td>NaN</td>\n",
       "      <td>1</td>\n",
       "      <td>NaN</td>\n",
       "      <td>NaN</td>\n",
       "      <td>NaN</td>\n",
       "      <td>Cecropiaceae : Coussapoa and Pourouma, with an...</td>\n",
       "      <td>NaN</td>\n",
       "    </tr>\n",
       "    <tr>\n",
       "      <th>8</th>\n",
       "      <td>2006-01-12 00:00:00-02</td>\n",
       "      <td>Fundación Puerto Rastrojo - Colômbia</td>\n",
       "      <td>FPR-COLOMBIA</td>\n",
       "      <td>65270</td>\n",
       "      <td>Pourouma acuminata</td>\n",
       "      <td>O</td>\n",
       "      <td>Plantae</td>\n",
       "      <td>NaN</td>\n",
       "      <td>Angiospermas</td>\n",
       "      <td>Urticales</td>\n",
       "      <td>...</td>\n",
       "      <td>NaN</td>\n",
       "      <td>NaN</td>\n",
       "      <td>NaN</td>\n",
       "      <td>NaN</td>\n",
       "      <td>1</td>\n",
       "      <td>NaN</td>\n",
       "      <td>NaN</td>\n",
       "      <td>NaN</td>\n",
       "      <td>Cecropiaceae : Coussapoa and Pourouma, with an...</td>\n",
       "      <td>NaN</td>\n",
       "    </tr>\n",
       "  </tbody>\n",
       "</table>\n",
       "<p>5 rows × 51 columns</p>\n",
       "</div>"
      ],
      "text/plain": [
       "0        datelastmodified                        institutioncode  \\\n",
       "4  2006-01-12 00:00:00-02  Fundación Puerto Rastrojo - Colômbia   \n",
       "5  2006-01-12 00:00:00-02  Fundación Puerto Rastrojo - Colômbia   \n",
       "6  2006-01-12 00:00:00-02  Fundación Puerto Rastrojo - Colômbia   \n",
       "7  2006-01-12 00:00:00-02  Fundación Puerto Rastrojo - Colômbia   \n",
       "8  2006-01-12 00:00:00-02  Fundación Puerto Rastrojo - Colômbia   \n",
       "\n",
       "0 collectioncode catalognumber      scientificname basisofrecord  kingdom  \\\n",
       "4   FPR-COLOMBIA         65263  Pourouma acuminata             O  Plantae   \n",
       "5   FPR-COLOMBIA         65271  Pourouma acuminata             O  Plantae   \n",
       "6   FPR-COLOMBIA         65269  Pourouma acuminata             O  Plantae   \n",
       "7   FPR-COLOMBIA         65272  Pourouma acuminata             O  Plantae   \n",
       "8   FPR-COLOMBIA         65270  Pourouma acuminata             O  Plantae   \n",
       "\n",
       "0 phylum         class      ordem  ... minimumdepth maximumdepth  sex  \\\n",
       "4    NaN  Angiospermas  Urticales  ...          NaN          NaN  NaN   \n",
       "5    NaN  Angiospermas  Urticales  ...          NaN          NaN  NaN   \n",
       "6    NaN  Angiospermas  Urticales  ...          NaN          NaN  NaN   \n",
       "7    NaN  Angiospermas  Urticales  ...          NaN          NaN  NaN   \n",
       "8    NaN  Angiospermas  Urticales  ...          NaN          NaN  NaN   \n",
       "\n",
       "0 preparationtype individualcount previouscatalognumber relationshiptype  \\\n",
       "4             NaN               1                   NaN              NaN   \n",
       "5             NaN               1                   NaN              NaN   \n",
       "6             NaN               1                   NaN              NaN   \n",
       "7             NaN               1                   NaN              NaN   \n",
       "8             NaN               1                   NaN              NaN   \n",
       "\n",
       "0  relatedcatalogitem                                              notes  \\\n",
       "4                 NaN  Cecropiaceae : Coussapoa and Pourouma, with an...   \n",
       "5                 NaN  Cecropiaceae : Coussapoa and Pourouma, with an...   \n",
       "6                 NaN  Cecropiaceae : Coussapoa and Pourouma, with an...   \n",
       "7                 NaN  Cecropiaceae : Coussapoa and Pourouma, with an...   \n",
       "8                 NaN  Cecropiaceae : Coussapoa and Pourouma, with an...   \n",
       "\n",
       "0 barcode  \n",
       "4     NaN  \n",
       "5     NaN  \n",
       "6     NaN  \n",
       "7     NaN  \n",
       "8     NaN  \n",
       "\n",
       "[5 rows x 51 columns]"
      ]
     },
     "execution_count": 10,
     "metadata": {},
     "output_type": "execute_result"
    }
   ],
   "source": [
    "spp.head()"
   ]
  },
  {
   "cell_type": "code",
   "execution_count": 11,
   "metadata": {},
   "outputs": [],
   "source": [
    "spp = spp.drop(columns = ['datelastmodified', 'basisofrecord', 'kingdom', 'phylum', \n",
    "       'fieldnumber', 'timeofday', 'continentocean', \n",
    "       'minimumelevation', 'maximumelevation', 'minimumdepth', 'boundingbox', 'maximumdepth',\n",
    "       'sex', 'preparationtype', 'individualcount', 'previouscatalognumber',\n",
    "       'relationshiptype', 'relatedcatalogitem'])\n"
   ]
  },
  {
   "cell_type": "code",
   "execution_count": 16,
   "metadata": {},
   "outputs": [
    {
     "data": {
      "text/plain": [
       "105443"
      ]
     },
     "execution_count": 16,
     "metadata": {},
     "output_type": "execute_result"
    }
   ],
   "source": [
    "len(spp[spp.family.isin(['Bignoniaceae'])])"
   ]
  },
  {
   "cell_type": "code",
   "execution_count": 17,
   "metadata": {},
   "outputs": [],
   "source": [
    "flower_regex = \"(\\\\b[Ii]n|\\\\b)[Ff]lor(?!esta|[íi]stica|amento)(ets|es|ais|al|a[cç][aã]o)?(c[eê]ncias?)?|[Ff]lower(?!ed)|[Aa]ntese|[Cc]orola|[Cc]orolla|[Ff]l\\\\.|[Pp][eé]talas?|[Bb]r[aá]cteas?|[Ee]st[íi]gmas?|[Aa]nteras?|[Cc][aá]lice\""
   ]
  },
  {
   "cell_type": "code",
   "execution_count": 18,
   "metadata": {},
   "outputs": [],
   "source": [
    "import re"
   ]
  },
  {
   "cell_type": "code",
   "execution_count": 24,
   "metadata": {},
   "outputs": [
    {
     "name": "stderr",
     "output_type": "stream",
     "text": [
      "/home/gustavo/.local/lib/python3.7/site-packages/ipykernel_launcher.py:1: UserWarning: This pattern has match groups. To actually get the groups, use str.extract.\n",
      "  \"\"\"Entry point for launching an IPython kernel.\n"
     ]
    },
    {
     "data": {
      "text/plain": [
       "1082       Notes on Swartzia [Leguminosae : Swartzieae] p...\n",
       "1085       Notes on Swartzia [Leguminosae : Swartzieae] p...\n",
       "1086       Notes on Swartzia [Leguminosae : Swartzieae] p...\n",
       "1087       Notes on Swartzia [Leguminosae : Swartzieae] p...\n",
       "1092       Notes on Swartzia [Leguminosae : Swartzieae] p...\n",
       "1093       Notes on Swartzia [Leguminosae : Swartzieae] p...\n",
       "1631                     Dichapetalaceae PRANCE, Ghillean T.\n",
       "1632                     Dichapetalaceae PRANCE, Ghillean T.\n",
       "1639                     Dichapetalaceae PRANCE, Ghillean T.\n",
       "1640                     Dichapetalaceae PRANCE, Ghillean T.\n",
       "1641                     Dichapetalaceae PRANCE, Ghillean T.\n",
       "1642                     Dichapetalaceae PRANCE, Ghillean T.\n",
       "1643                     Dichapetalaceae PRANCE, Ghillean T.\n",
       "1644                     Dichapetalaceae PRANCE, Ghillean T.\n",
       "1645                     Dichapetalaceae PRANCE, Ghillean T.\n",
       "1646                     Dichapetalaceae PRANCE, Ghillean T.\n",
       "1647                     Dichapetalaceae PRANCE, Ghillean T.\n",
       "1648                     Dichapetalaceae PRANCE, Ghillean T.\n",
       "2729       Contribución al conocimiento de la florula del...\n",
       "4273                     Dichapetalaceae PRANCE, Ghillean T.\n",
       "4275                     Dichapetalaceae PRANCE, Ghillean T.\n",
       "4277                     Dichapetalaceae PRANCE, Ghillean T.\n",
       "4279                     Dichapetalaceae PRANCE, Ghillean T.\n",
       "4281                     Dichapetalaceae PRANCE, Ghillean T.\n",
       "4283                     Dichapetalaceae PRANCE, Ghillean T.\n",
       "4284                     Dichapetalaceae PRANCE, Ghillean T.\n",
       "4285                     Dichapetalaceae PRANCE, Ghillean T.\n",
       "4286                     Dichapetalaceae PRANCE, Ghillean T.\n",
       "4288                     Dichapetalaceae PRANCE, Ghillean T.\n",
       "4289                     Dichapetalaceae PRANCE, Ghillean T.\n",
       "                                 ...                        \n",
       "6199246    Árvore pequena, cerca de 3m de altura, inflore...\n",
       "6199247                Arbusto com 2 m de altura. Flor alva.\n",
       "6199248    Arbusto, cerca de 3m de altura, muito frequent...\n",
       "6199249    Subarbusto ca. 1m de altura, flor creme. Frequ...\n",
       "6199250    Arbusto de 1,50m de altura, folhas verdes fort...\n",
       "6199252                 2m de altura, inflorescências alvas.\n",
       "6199254    Arbusto, cerca de 1,5m de altura, inflorescênc...\n",
       "6199255    Arbusto, cerca de 2m de altura, muito ramifica...\n",
       "6199259             1m de altura, inflorescência esverdeada.\n",
       "6199261      2m de altura, inflorescência com flores verdes.\n",
       "6199262    Subarbusto ca. 2m de altura, flor crme-esverde...\n",
       "6199268    Arbusto, aproximadamente 1,60m de altura, folh...\n",
       "6199270      Arbusto de 2m de altura, inflorescências alvas.\n",
       "6199271    Árvore, cerca de 3,5m de altura, inflorescênci...\n",
       "6199272                 Trepadeira, corola arroxeada, fruto.\n",
       "6199273                          Subarbusto, inflorescência.\n",
       "6199285    Folhas discolores, espigas alvo-esverdeadas em...\n",
       "6199286                                Floração verde-creme.\n",
       "6199287    Arbusto de 2,50m de altura, inflorescências ve...\n",
       "6199288    Arbusto de 2m de altura, inflorescência verde....\n",
       "6199289    Arbusto, cerca de 2m de altura, inflorescência...\n",
       "6199290    Arbusto de 2m de altura, inflorescência jovem ...\n",
       "6199293    Arbusto de 1,5m de altura, flores maduras bran...\n",
       "6199298    Arbusto de 1,50m de altura, inflorescências jo...\n",
       "6199300                Arbusto ca. 2m de altura, flor creme.\n",
       "6199303    Arbusto de 90cm de altura, inflorescência crem...\n",
       "6199304                   Flor creme. Planta nº 1642, p. 23.\n",
       "6199305    Arbusto de 1,5mde altura, heliófilo, folhas ve...\n",
       "6199308    Arbusto, cerca de 2m de altura, folhas verdes ...\n",
       "6199309    Arbusto, cerca de 150cm de altura, folhas verd...\n",
       "Name: notes, Length: 1169284, dtype: object"
      ]
     },
     "execution_count": 24,
     "metadata": {},
     "output_type": "execute_result"
    }
   ],
   "source": [
    "spp.notes.loc[spp.notes.str.contains(flower_regex, na = False)]"
   ]
  },
  {
   "cell_type": "code",
   "execution_count": 26,
   "metadata": {},
   "outputs": [
    {
     "name": "stderr",
     "output_type": "stream",
     "text": [
      "/home/gustavo/.local/lib/python3.7/site-packages/ipykernel_launcher.py:1: UserWarning: This pattern has match groups. To actually get the groups, use str.extract.\n",
      "  \"\"\"Entry point for launching an IPython kernel.\n"
     ]
    }
   ],
   "source": [
    "has_flowers = spp.notes.str.contains(flower_regex, na = False)"
   ]
  },
  {
   "cell_type": "code",
   "execution_count": 27,
   "metadata": {},
   "outputs": [
    {
     "data": {
      "text/plain": [
       "4    False\n",
       "5    False\n",
       "6    False\n",
       "7    False\n",
       "8    False\n",
       "Name: notes, dtype: bool"
      ]
     },
     "execution_count": 27,
     "metadata": {},
     "output_type": "execute_result"
    }
   ],
   "source": [
    "has_flowers.head()\n"
   ]
  },
  {
   "cell_type": "code",
   "execution_count": 29,
   "metadata": {},
   "outputs": [
    {
     "data": {
      "text/plain": [
       "6199349    False\n",
       "6199350    False\n",
       "6199351    False\n",
       "6199352    False\n",
       "6199353    False\n",
       "Name: notes, dtype: bool"
      ]
     },
     "execution_count": 29,
     "metadata": {},
     "output_type": "execute_result"
    }
   ],
   "source": [
    "has_flowers.tail()"
   ]
  },
  {
   "cell_type": "markdown",
   "metadata": {},
   "source": []
  },
  {
   "cell_type": "code",
   "execution_count": 30,
   "metadata": {},
   "outputs": [
    {
     "data": {
      "text/plain": [
       "1169284"
      ]
     },
     "execution_count": 30,
     "metadata": {},
     "output_type": "execute_result"
    }
   ],
   "source": [
    "sum(has_flowers)"
   ]
  },
  {
   "cell_type": "code",
   "execution_count": 31,
   "metadata": {},
   "outputs": [
    {
     "data": {
      "text/plain": [
       "5861458"
      ]
     },
     "execution_count": 31,
     "metadata": {},
     "output_type": "execute_result"
    }
   ],
   "source": [
    "len(has_flowers)"
   ]
  },
  {
   "cell_type": "code",
   "execution_count": 35,
   "metadata": {},
   "outputs": [],
   "source": [
    "spp = spp[has_flowers]"
   ]
  },
  {
   "cell_type": "code",
   "execution_count": 50,
   "metadata": {},
   "outputs": [],
   "source": [
    "spp = spp[(spp.yearcollected >= 1900) & (spp.yearcollected <= 2019)]"
   ]
  },
  {
   "cell_type": "code",
   "execution_count": 52,
   "metadata": {},
   "outputs": [
    {
     "ename": "TypeError",
     "evalue": "'>=' not supported between instances of 'str' and 'int'",
     "output_type": "error",
     "traceback": [
      "\u001b[0;31m---------------------------------------------------------------------------\u001b[0m",
      "\u001b[0;31mTypeError\u001b[0m                                 Traceback (most recent call last)",
      "\u001b[0;32m<ipython-input-52-ecf30f9ea67c>\u001b[0m in \u001b[0;36m<module>\u001b[0;34m\u001b[0m\n\u001b[0;32m----> 1\u001b[0;31m \u001b[0mspp\u001b[0m\u001b[0;34m[\u001b[0m\u001b[0;34m(\u001b[0m\u001b[0mspp\u001b[0m\u001b[0;34m.\u001b[0m\u001b[0mmonthcollected\u001b[0m \u001b[0;34m>=\u001b[0m \u001b[0;36m1\u001b[0m\u001b[0;34m)\u001b[0m \u001b[0;34m&\u001b[0m \u001b[0;34m(\u001b[0m\u001b[0mspp\u001b[0m\u001b[0;34m.\u001b[0m\u001b[0mmonthcollected\u001b[0m \u001b[0;34m<=\u001b[0m \u001b[0;36m12\u001b[0m\u001b[0;34m)\u001b[0m\u001b[0;34m]\u001b[0m\u001b[0;34m\u001b[0m\u001b[0;34m\u001b[0m\u001b[0m\n\u001b[0m",
      "\u001b[0;32m~/.local/lib/python3.7/site-packages/pandas/core/ops.py\u001b[0m in \u001b[0;36mwrapper\u001b[0;34m(self, other, axis)\u001b[0m\n\u001b[1;32m   1764\u001b[0m \u001b[0;34m\u001b[0m\u001b[0m\n\u001b[1;32m   1765\u001b[0m             \u001b[0;32mwith\u001b[0m \u001b[0mnp\u001b[0m\u001b[0;34m.\u001b[0m\u001b[0merrstate\u001b[0m\u001b[0;34m(\u001b[0m\u001b[0mall\u001b[0m\u001b[0;34m=\u001b[0m\u001b[0;34m'ignore'\u001b[0m\u001b[0;34m)\u001b[0m\u001b[0;34m:\u001b[0m\u001b[0;34m\u001b[0m\u001b[0;34m\u001b[0m\u001b[0m\n\u001b[0;32m-> 1766\u001b[0;31m                 \u001b[0mres\u001b[0m \u001b[0;34m=\u001b[0m \u001b[0mna_op\u001b[0m\u001b[0;34m(\u001b[0m\u001b[0mvalues\u001b[0m\u001b[0;34m,\u001b[0m \u001b[0mother\u001b[0m\u001b[0;34m)\u001b[0m\u001b[0;34m\u001b[0m\u001b[0;34m\u001b[0m\u001b[0m\n\u001b[0m\u001b[1;32m   1767\u001b[0m             \u001b[0;32mif\u001b[0m \u001b[0mis_scalar\u001b[0m\u001b[0;34m(\u001b[0m\u001b[0mres\u001b[0m\u001b[0;34m)\u001b[0m\u001b[0;34m:\u001b[0m\u001b[0;34m\u001b[0m\u001b[0;34m\u001b[0m\u001b[0m\n\u001b[1;32m   1768\u001b[0m                 raise TypeError('Could not compare {typ} type with Series'\n",
      "\u001b[0;32m~/.local/lib/python3.7/site-packages/pandas/core/ops.py\u001b[0m in \u001b[0;36mna_op\u001b[0;34m(x, y)\u001b[0m\n\u001b[1;32m   1623\u001b[0m \u001b[0;34m\u001b[0m\u001b[0m\n\u001b[1;32m   1624\u001b[0m         \u001b[0;32mif\u001b[0m \u001b[0mis_object_dtype\u001b[0m\u001b[0;34m(\u001b[0m\u001b[0mx\u001b[0m\u001b[0;34m.\u001b[0m\u001b[0mdtype\u001b[0m\u001b[0;34m)\u001b[0m\u001b[0;34m:\u001b[0m\u001b[0;34m\u001b[0m\u001b[0;34m\u001b[0m\u001b[0m\n\u001b[0;32m-> 1625\u001b[0;31m             \u001b[0mresult\u001b[0m \u001b[0;34m=\u001b[0m \u001b[0m_comp_method_OBJECT_ARRAY\u001b[0m\u001b[0;34m(\u001b[0m\u001b[0mop\u001b[0m\u001b[0;34m,\u001b[0m \u001b[0mx\u001b[0m\u001b[0;34m,\u001b[0m \u001b[0my\u001b[0m\u001b[0;34m)\u001b[0m\u001b[0;34m\u001b[0m\u001b[0;34m\u001b[0m\u001b[0m\n\u001b[0m\u001b[1;32m   1626\u001b[0m \u001b[0;34m\u001b[0m\u001b[0m\n\u001b[1;32m   1627\u001b[0m         \u001b[0;32melif\u001b[0m \u001b[0mis_datetimelike_v_numeric\u001b[0m\u001b[0;34m(\u001b[0m\u001b[0mx\u001b[0m\u001b[0;34m,\u001b[0m \u001b[0my\u001b[0m\u001b[0;34m)\u001b[0m\u001b[0;34m:\u001b[0m\u001b[0;34m\u001b[0m\u001b[0;34m\u001b[0m\u001b[0m\n",
      "\u001b[0;32m~/.local/lib/python3.7/site-packages/pandas/core/ops.py\u001b[0m in \u001b[0;36m_comp_method_OBJECT_ARRAY\u001b[0;34m(op, x, y)\u001b[0m\n\u001b[1;32m   1601\u001b[0m         \u001b[0mresult\u001b[0m \u001b[0;34m=\u001b[0m \u001b[0mlibops\u001b[0m\u001b[0;34m.\u001b[0m\u001b[0mvec_compare\u001b[0m\u001b[0;34m(\u001b[0m\u001b[0mx\u001b[0m\u001b[0;34m,\u001b[0m \u001b[0my\u001b[0m\u001b[0;34m,\u001b[0m \u001b[0mop\u001b[0m\u001b[0;34m)\u001b[0m\u001b[0;34m\u001b[0m\u001b[0;34m\u001b[0m\u001b[0m\n\u001b[1;32m   1602\u001b[0m     \u001b[0;32melse\u001b[0m\u001b[0;34m:\u001b[0m\u001b[0;34m\u001b[0m\u001b[0;34m\u001b[0m\u001b[0m\n\u001b[0;32m-> 1603\u001b[0;31m         \u001b[0mresult\u001b[0m \u001b[0;34m=\u001b[0m \u001b[0mlibops\u001b[0m\u001b[0;34m.\u001b[0m\u001b[0mscalar_compare\u001b[0m\u001b[0;34m(\u001b[0m\u001b[0mx\u001b[0m\u001b[0;34m,\u001b[0m \u001b[0my\u001b[0m\u001b[0;34m,\u001b[0m \u001b[0mop\u001b[0m\u001b[0;34m)\u001b[0m\u001b[0;34m\u001b[0m\u001b[0;34m\u001b[0m\u001b[0m\n\u001b[0m\u001b[1;32m   1604\u001b[0m     \u001b[0;32mreturn\u001b[0m \u001b[0mresult\u001b[0m\u001b[0;34m\u001b[0m\u001b[0;34m\u001b[0m\u001b[0m\n\u001b[1;32m   1605\u001b[0m \u001b[0;34m\u001b[0m\u001b[0m\n",
      "\u001b[0;32mpandas/_libs/ops.pyx\u001b[0m in \u001b[0;36mpandas._libs.ops.scalar_compare\u001b[0;34m()\u001b[0m\n",
      "\u001b[0;31mTypeError\u001b[0m: '>=' not supported between instances of 'str' and 'int'"
     ]
    }
   ],
   "source": [
    "spp[(spp.monthcollected >= 1) & (spp.monthcollected <= 12)]"
   ]
  },
  {
   "cell_type": "code",
   "execution_count": 56,
   "metadata": {},
   "outputs": [
    {
     "data": {
      "text/plain": [
       "0\n",
       "institutioncode          object\n",
       "collectioncode           object\n",
       "catalognumber            object\n",
       "scientificname           object\n",
       "class                    object\n",
       "ordem                    object\n",
       "family                   object\n",
       "genus                    object\n",
       "species                  object\n",
       "subspecies               object\n",
       "scientificnameauthor     object\n",
       "identifiedby             object\n",
       "yearidentified           object\n",
       "monthidentified         float64\n",
       "dayidentified           float64\n",
       "typestatus               object\n",
       "collectornumber          object\n",
       "collector                object\n",
       "yearcollected           float64\n",
       "monthcollected           object\n",
       "daycollected             object\n",
       "julianday               float64\n",
       "country                  object\n",
       "stateprovince            object\n",
       "county                   object\n",
       "locality                 object\n",
       "longitude                object\n",
       "latitude                 object\n",
       "longitude_mun           float64\n",
       "latitude_mun             object\n",
       "coordinateprecision      object\n",
       "notes                    object\n",
       "barcode                  object\n",
       "dtype: object"
      ]
     },
     "execution_count": 56,
     "metadata": {},
     "output_type": "execute_result"
    }
   ],
   "source": [
    "(spp.dtypes)"
   ]
  },
  {
   "cell_type": "code",
   "execution_count": null,
   "metadata": {},
   "outputs": [],
   "source": []
  }
 ],
 "metadata": {
  "kernelspec": {
   "display_name": "Python 3",
   "language": "python",
   "name": "python3"
  },
  "language_info": {
   "codemirror_mode": {
    "name": "ipython",
    "version": 3
   },
   "file_extension": ".py",
   "mimetype": "text/x-python",
   "name": "python",
   "nbconvert_exporter": "python",
   "pygments_lexer": "ipython3",
   "version": "3.7.3"
  }
 },
 "nbformat": 4,
 "nbformat_minor": 2
}
